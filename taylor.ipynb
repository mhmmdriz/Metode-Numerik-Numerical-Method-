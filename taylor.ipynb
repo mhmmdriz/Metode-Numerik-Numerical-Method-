{
 "cells": [
  {
   "cell_type": "code",
   "execution_count": 44,
   "metadata": {},
   "outputs": [
    {
     "name": "stdout",
     "output_type": "stream",
     "text": [
      "nilai y(0) =  1\n",
      "nilai y(0.25) =  0.897491455078125\n",
      "nilai y(0.5) =  0.8364036682372291\n",
      "========================================\n",
      "Jadi nilai y(0.5) =  0.8364036682372291\n"
     ]
    }
   ],
   "source": [
    "def factorial( n ):\n",
    "    if n == 0:\n",
    "        return 1\n",
    "    fact = 1\n",
    "    for i in range( 1, n+1 ):\n",
    "        fact *= i\n",
    "    return fact\n",
    "    \n",
    "def Taylor(array,orde,h,y0,x0):\n",
    "    y = y0\n",
    "\n",
    "    for i in range(1,orde+1):\n",
    "        y += ((h**i) * array[i-1](x0,y0))/factorial(i)\n",
    "    \n",
    "    return y\n",
    "\n",
    "xn = 0 # x awal\n",
    "array_y = [1] # nilai y awal\n",
    "h = 0.25\n",
    "x_soal = 0.5 # x yang dicari nilainya\n",
    "orde = 4 # orde deret taylor\n",
    "\n",
    "array_turunan = []\n",
    "y1 = lambda x,y :(x/2) - (y/2)\n",
    "y2 = lambda x,y :(1/2) - (x/4) + (y/4)\n",
    "y3 = lambda x,y :-(1/4) + (x/8) - (y/8)\n",
    "y4 = lambda x,y :(1/8) - (x/16) + (y/16)\n",
    "array_turunan.append(y1)\n",
    "array_turunan.append(y2)\n",
    "array_turunan.append(y3)\n",
    "array_turunan.append(y4)\n",
    "\n",
    "i = 0 # iterator\n",
    "while(xn <= x_soal):\n",
    "    array_y.append(Taylor(array_turunan,4,h,array_y[i],xn))\n",
    "    print(f\"nilai y({xn}) = \",array_y[i])\n",
    "    xn += h\n",
    "    i += 1\n",
    "\n",
    "print(40*\"=\")\n",
    "print(f\"Jadi nilai y({x_soal}) = \",array_y[i-1])"
   ]
  }
 ],
 "metadata": {
  "kernelspec": {
   "display_name": "Python 3.10.0 64-bit",
   "language": "python",
   "name": "python3"
  },
  "language_info": {
   "codemirror_mode": {
    "name": "ipython",
    "version": 3
   },
   "file_extension": ".py",
   "mimetype": "text/x-python",
   "name": "python",
   "nbconvert_exporter": "python",
   "pygments_lexer": "ipython3",
   "version": "3.10.0"
  },
  "orig_nbformat": 4,
  "vscode": {
   "interpreter": {
    "hash": "0d72b21489300652f2337cd7f80c57cc00ce6bbc92cf98d285c178d0a8ced433"
   }
  }
 },
 "nbformat": 4,
 "nbformat_minor": 2
}
